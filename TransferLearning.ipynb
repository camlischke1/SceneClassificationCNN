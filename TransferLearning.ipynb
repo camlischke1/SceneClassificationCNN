{
 "cells": [
  {
   "cell_type": "code",
   "execution_count": 2,
   "metadata": {},
   "outputs": [],
   "source": [
    "import matplotlib.pyplot as plt\n",
    "import numpy as np\n",
    "from tensorflow.keras.models import load_model\n",
    "import pickle"
   ]
  },
  {
   "cell_type": "code",
   "execution_count": 3,
   "metadata": {},
   "outputs": [],
   "source": [
    "X_train = np.load(\"X_train.npy\")\n",
    "X_val = np.load(\"X_val.npy\")\n",
    "Y_train = np.load(\"Y_train.npy\")\n",
    "Y_val = np.load(\"Y_val.npy\")"
   ]
  },
  {
   "cell_type": "code",
   "execution_count": 4,
   "metadata": {},
   "outputs": [],
   "source": [
    "from keras.applications import VGG16\n",
    "\n",
    "conv_base = VGG16(weights='imagenet',\n",
    "                  include_top=False,\n",
    "                  input_shape=(100, 100, 3))"
   ]
  },
  {
   "cell_type": "code",
   "execution_count": 5,
   "metadata": {},
   "outputs": [
    {
     "name": "stdout",
     "output_type": "stream",
     "text": [
      "Model: \"vgg16\"\n",
      "_________________________________________________________________\n",
      "Layer (type)                 Output Shape              Param #   \n",
      "=================================================================\n",
      "input_1 (InputLayer)         [(None, 100, 100, 3)]     0         \n",
      "_________________________________________________________________\n",
      "block1_conv1 (Conv2D)        (None, 100, 100, 64)      1792      \n",
      "_________________________________________________________________\n",
      "block1_conv2 (Conv2D)        (None, 100, 100, 64)      36928     \n",
      "_________________________________________________________________\n",
      "block1_pool (MaxPooling2D)   (None, 50, 50, 64)        0         \n",
      "_________________________________________________________________\n",
      "block2_conv1 (Conv2D)        (None, 50, 50, 128)       73856     \n",
      "_________________________________________________________________\n",
      "block2_conv2 (Conv2D)        (None, 50, 50, 128)       147584    \n",
      "_________________________________________________________________\n",
      "block2_pool (MaxPooling2D)   (None, 25, 25, 128)       0         \n",
      "_________________________________________________________________\n",
      "block3_conv1 (Conv2D)        (None, 25, 25, 256)       295168    \n",
      "_________________________________________________________________\n",
      "block3_conv2 (Conv2D)        (None, 25, 25, 256)       590080    \n",
      "_________________________________________________________________\n",
      "block3_conv3 (Conv2D)        (None, 25, 25, 256)       590080    \n",
      "_________________________________________________________________\n",
      "block3_pool (MaxPooling2D)   (None, 12, 12, 256)       0         \n",
      "_________________________________________________________________\n",
      "block4_conv1 (Conv2D)        (None, 12, 12, 512)       1180160   \n",
      "_________________________________________________________________\n",
      "block4_conv2 (Conv2D)        (None, 12, 12, 512)       2359808   \n",
      "_________________________________________________________________\n",
      "block4_conv3 (Conv2D)        (None, 12, 12, 512)       2359808   \n",
      "_________________________________________________________________\n",
      "block4_pool (MaxPooling2D)   (None, 6, 6, 512)         0         \n",
      "_________________________________________________________________\n",
      "block5_conv1 (Conv2D)        (None, 6, 6, 512)         2359808   \n",
      "_________________________________________________________________\n",
      "block5_conv2 (Conv2D)        (None, 6, 6, 512)         2359808   \n",
      "_________________________________________________________________\n",
      "block5_conv3 (Conv2D)        (None, 6, 6, 512)         2359808   \n",
      "_________________________________________________________________\n",
      "block5_pool (MaxPooling2D)   (None, 3, 3, 512)         0         \n",
      "=================================================================\n",
      "Total params: 14,714,688\n",
      "Trainable params: 14,714,688\n",
      "Non-trainable params: 0\n",
      "_________________________________________________________________\n"
     ]
    }
   ],
   "source": [
    "conv_base.summary()"
   ]
  },
  {
   "cell_type": "code",
   "execution_count": 6,
   "metadata": {},
   "outputs": [],
   "source": [
    "# Defining the dense layer\n",
    "from keras import models\n",
    "from keras import layers\n",
    "from keras import optimizers\n",
    "from keras import regularizers\n",
    "\n",
    "model = models.Sequential()\n",
    "model.add(conv_base)\n",
    "model.add(layers.Dropout(rate=0.2))\n",
    "model.add(layers.Flatten())\n",
    "model.add(layers.Dense(64, activation='relu'))\n",
    "model.add(layers.Dense(Y_train.shape[1], activation='softmax'))"
   ]
  },
  {
   "cell_type": "code",
   "execution_count": 7,
   "metadata": {},
   "outputs": [
    {
     "name": "stdout",
     "output_type": "stream",
     "text": [
      "Model: \"sequential\"\n",
      "_________________________________________________________________\n",
      "Layer (type)                 Output Shape              Param #   \n",
      "=================================================================\n",
      "vgg16 (Functional)           (None, 3, 3, 512)         14714688  \n",
      "_________________________________________________________________\n",
      "dropout (Dropout)            (None, 3, 3, 512)         0         \n",
      "_________________________________________________________________\n",
      "flatten (Flatten)            (None, 4608)              0         \n",
      "_________________________________________________________________\n",
      "dense (Dense)                (None, 64)                294976    \n",
      "_________________________________________________________________\n",
      "dense_1 (Dense)              (None, 6)                 390       \n",
      "=================================================================\n",
      "Total params: 15,010,054\n",
      "Trainable params: 15,010,054\n",
      "Non-trainable params: 0\n",
      "_________________________________________________________________\n"
     ]
    }
   ],
   "source": [
    "model.summary()"
   ]
  },
  {
   "cell_type": "code",
   "execution_count": 8,
   "metadata": {},
   "outputs": [],
   "source": [
    "# freeezing\n",
    "conv_base.trainable = True\n",
    "\n",
    "set_trainable = False\n",
    "for layer in conv_base.layers:\n",
    "    if layer.name == 'block5_conv1':\n",
    "        set_trainable = True\n",
    "    if layer.name == 'block4_conv1':\n",
    "        set_trainable = True\n",
    "    if set_trainable:\n",
    "        layer.trainable = True\n",
    "    else:\n",
    "        layer.trainable = False"
   ]
  },
  {
   "cell_type": "code",
   "execution_count": 9,
   "metadata": {},
   "outputs": [],
   "source": [
    "model.compile(loss='categorical_crossentropy',\n",
    "              optimizer='rmsprop',\n",
    "              metrics=['accuracy', 'categorical_accuracy'])"
   ]
  },
  {
   "cell_type": "code",
   "execution_count": 10,
   "metadata": {},
   "outputs": [
    {
     "name": "stdout",
     "output_type": "stream",
     "text": [
      "Model: \"sequential\"\n",
      "_________________________________________________________________\n",
      "Layer (type)                 Output Shape              Param #   \n",
      "=================================================================\n",
      "vgg16 (Functional)           (None, 3, 3, 512)         14714688  \n",
      "_________________________________________________________________\n",
      "dropout (Dropout)            (None, 3, 3, 512)         0         \n",
      "_________________________________________________________________\n",
      "flatten (Flatten)            (None, 4608)              0         \n",
      "_________________________________________________________________\n",
      "dense (Dense)                (None, 64)                294976    \n",
      "_________________________________________________________________\n",
      "dense_1 (Dense)              (None, 6)                 390       \n",
      "=================================================================\n",
      "Total params: 15,010,054\n",
      "Trainable params: 13,274,566\n",
      "Non-trainable params: 1,735,488\n",
      "_________________________________________________________________\n"
     ]
    }
   ],
   "source": [
    "model.summary()"
   ]
  },
  {
   "cell_type": "code",
   "execution_count": 11,
   "metadata": {},
   "outputs": [
    {
     "name": "stdout",
     "output_type": "stream",
     "text": [
      "Epoch 1/20\n",
      "130/130 [==============================] - 22s 170ms/step - loss: 11.8448 - accuracy: 0.3339 - categorical_accuracy: 0.3339 - val_loss: 1.5964 - val_accuracy: 0.3173 - val_categorical_accuracy: 0.3173\n",
      "Epoch 2/20\n",
      "130/130 [==============================] - 21s 158ms/step - loss: 1.3062 - accuracy: 0.5069 - categorical_accuracy: 0.5069 - val_loss: 1.3722 - val_accuracy: 0.5559 - val_categorical_accuracy: 0.5559\n",
      "Epoch 3/20\n",
      "130/130 [==============================] - 21s 160ms/step - loss: 0.8565 - accuracy: 0.6917 - categorical_accuracy: 0.6917 - val_loss: 0.7129 - val_accuracy: 0.7192 - val_categorical_accuracy: 0.7192\n",
      "Epoch 4/20\n",
      "130/130 [==============================] - 21s 162ms/step - loss: 0.6749 - accuracy: 0.7720 - categorical_accuracy: 0.7720 - val_loss: 0.4950 - val_accuracy: 0.8270 - val_categorical_accuracy: 0.8270\n",
      "Epoch 5/20\n",
      "130/130 [==============================] - 21s 163ms/step - loss: 0.5987 - accuracy: 0.8111 - categorical_accuracy: 0.8111 - val_loss: 0.7242 - val_accuracy: 0.7687 - val_categorical_accuracy: 0.7687\n",
      "Epoch 6/20\n",
      "130/130 [==============================] - 21s 165ms/step - loss: 0.4884 - accuracy: 0.8424 - categorical_accuracy: 0.8424 - val_loss: 0.5818 - val_accuracy: 0.8200 - val_categorical_accuracy: 0.8200\n",
      "Epoch 7/20\n",
      "130/130 [==============================] - 22s 167ms/step - loss: 0.5418 - accuracy: 0.8444 - categorical_accuracy: 0.8444 - val_loss: 0.4140 - val_accuracy: 0.8517 - val_categorical_accuracy: 0.8517\n",
      "Epoch 8/20\n",
      "130/130 [==============================] - 22s 168ms/step - loss: 0.4329 - accuracy: 0.8614 - categorical_accuracy: 0.8614 - val_loss: 0.4185 - val_accuracy: 0.8722 - val_categorical_accuracy: 0.8722\n",
      "Epoch 9/20\n",
      "130/130 [==============================] - 22s 169ms/step - loss: 0.4071 - accuracy: 0.8694 - categorical_accuracy: 0.8694 - val_loss: 0.4124 - val_accuracy: 0.8777 - val_categorical_accuracy: 0.8777\n",
      "Epoch 10/20\n",
      "130/130 [==============================] - 22s 169ms/step - loss: 0.3917 - accuracy: 0.8761 - categorical_accuracy: 0.8761 - val_loss: 0.3926 - val_accuracy: 0.8830 - val_categorical_accuracy: 0.8830\n",
      "Epoch 11/20\n",
      "130/130 [==============================] - 22s 170ms/step - loss: 0.5656 - accuracy: 0.8786 - categorical_accuracy: 0.8786 - val_loss: 0.4602 - val_accuracy: 0.8575 - val_categorical_accuracy: 0.8575\n",
      "Epoch 12/20\n",
      "130/130 [==============================] - 22s 172ms/step - loss: 0.3787 - accuracy: 0.8840 - categorical_accuracy: 0.8840 - val_loss: 0.4407 - val_accuracy: 0.8762 - val_categorical_accuracy: 0.8762\n",
      "Epoch 13/20\n",
      "130/130 [==============================] - 22s 173ms/step - loss: 0.4185 - accuracy: 0.8789 - categorical_accuracy: 0.8789 - val_loss: 0.4283 - val_accuracy: 0.8752 - val_categorical_accuracy: 0.8752\n",
      "Epoch 14/20\n",
      "130/130 [==============================] - 23s 174ms/step - loss: 0.4119 - accuracy: 0.8775 - categorical_accuracy: 0.8775 - val_loss: 0.7047 - val_accuracy: 0.8330 - val_categorical_accuracy: 0.8330\n",
      "Epoch 15/20\n",
      "130/130 [==============================] - 23s 175ms/step - loss: 0.4029 - accuracy: 0.8891 - categorical_accuracy: 0.8891 - val_loss: 0.4187 - val_accuracy: 0.8895 - val_categorical_accuracy: 0.8895\n",
      "Epoch 16/20\n",
      "130/130 [==============================] - 23s 175ms/step - loss: 0.3794 - accuracy: 0.8911 - categorical_accuracy: 0.8911 - val_loss: 0.5135 - val_accuracy: 0.8755 - val_categorical_accuracy: 0.8755\n",
      "Epoch 17/20\n",
      "130/130 [==============================] - 23s 176ms/step - loss: 0.4416 - accuracy: 0.8858 - categorical_accuracy: 0.8858 - val_loss: 1.7653 - val_accuracy: 0.7904 - val_categorical_accuracy: 0.7904\n",
      "Epoch 18/20\n",
      "130/130 [==============================] - 23s 176ms/step - loss: 0.3830 - accuracy: 0.8859 - categorical_accuracy: 0.8859 - val_loss: 0.4150 - val_accuracy: 0.8920 - val_categorical_accuracy: 0.8920\n",
      "Epoch 19/20\n",
      "130/130 [==============================] - 23s 176ms/step - loss: 0.3715 - accuracy: 0.8957 - categorical_accuracy: 0.8957 - val_loss: 3.4340 - val_accuracy: 0.5979 - val_categorical_accuracy: 0.5979\n",
      "Epoch 20/20\n",
      "130/130 [==============================] - 23s 176ms/step - loss: 0.8335 - accuracy: 0.8833 - categorical_accuracy: 0.8833 - val_loss: 0.4071 - val_accuracy: 0.8657 - val_categorical_accuracy: 0.8657\n"
     ]
    }
   ],
   "source": [
    "history = model.fit(X_train,\n",
    "                    Y_train,\n",
    "                    batch_size=100,\n",
    "                    epochs= 20,\n",
    "                    steps_per_epoch=X_train.shape[0]//100,\n",
    "                    validation_data=(X_val, Y_val))"
   ]
  },
  {
   "cell_type": "code",
   "execution_count": 12,
   "metadata": {},
   "outputs": [],
   "source": [
    "model.save(\"scene_classification_transfer_learning_1.h5\")"
   ]
  },
  {
   "cell_type": "code",
   "execution_count": 17,
   "metadata": {},
   "outputs": [
    {
     "data": {
      "image/png": "[encoded data removed]",
      "text/plain": [
       "<Figure size 432x288 with 1 Axes>"
      ]
     },
     "metadata": {
      "needs_background": "light"
     },
     "output_type": "display_data"
    },
    {
     "data": {
      "image/png": "[encoded data removed]",
      "text/plain": [
       "<Figure size 432x288 with 1 Axes>"
      ]
     },
     "metadata": {
      "needs_background": "light"
     },
     "output_type": "display_data"
    }
   ],
   "source": [
    "np.save(\"transfer_learning_history.npy\", history.history,allow_pickle=True)\n",
    "acc = history.history['accuracy']\n",
    "val_acc = history.history['val_accuracy']\n",
    "loss = history.history['loss']\n",
    "val_loss = history.history['val_loss']\n",
    "\n",
    "epochs = range(len(acc))\n",
    "\n",
    "plt.plot(epochs, acc, 'bo', label='Training acc')\n",
    "plt.plot(epochs, val_acc, 'b', label='Validation acc')\n",
    "plt.title('Training and validation accuracy')\n",
    "plt.legend()\n",
    "\n",
    "plt.figure()\n",
    "\n",
    "plt.plot(epochs, loss, 'bo', label='Training loss')\n",
    "plt.plot(epochs, val_loss, 'b', label='Validation loss')\n",
    "plt.title('Training and validation loss')\n",
    "plt.legend()\n",
    "\n",
    "plt.show()"
   ]
  },
  {
   "cell_type": "code",
   "execution_count": 18,
   "metadata": {},
   "outputs": [
    {
     "data": {
      "image/png": "[encoded data removed]",
      "text/plain": [
       "<Figure size 432x288 with 1 Axes>"
      ]
     },
     "metadata": {
      "needs_background": "light"
     },
     "output_type": "display_data"
    },
    {
     "data": {
      "image/png": "[encoded data removed]",
      "text/plain": [
       "<Figure size 432x288 with 1 Axes>"
      ]
     },
     "metadata": {
      "needs_background": "light"
     },
     "output_type": "display_data"
    }
   ],
   "source": [
    "def smooth_curve(points, factor=0.8):\n",
    "  smoothed_points = []\n",
    "  for point in points:\n",
    "    if smoothed_points:\n",
    "      previous = smoothed_points[-1]\n",
    "      smoothed_points.append(previous * factor + point * (1 - factor))\n",
    "    else:\n",
    "      smoothed_points.append(point)\n",
    "  return smoothed_points\n",
    "\n",
    "plt.plot(epochs,\n",
    "         smooth_curve(acc), 'bo', label='Smoothed training acc')\n",
    "plt.plot(epochs,\n",
    "         smooth_curve(val_acc), 'b', label='Smoothed validation acc')\n",
    "plt.title('Training and validation accuracy')\n",
    "plt.legend()\n",
    "\n",
    "plt.figure()\n",
    "\n",
    "plt.plot(epochs,\n",
    "         smooth_curve(loss), 'bo', label='Smoothed training loss')\n",
    "plt.plot(epochs,\n",
    "         smooth_curve(val_loss), 'b', label='Smoothed validation loss')\n",
    "plt.title('Training and validation loss')\n",
    "plt.legend()\n",
    "\n",
    "plt.show()"
   ]
  },
  {
   "cell_type": "markdown",
   "metadata": {},
   "source": [
    "Note that the loss curve does not show any real improvement. You may wonder, how could accuracy improve if the \n",
    "loss isn't decreasing? The answer is simple: what we display is an average of pointwise loss values, but what actually matters for accuracy \n",
    "is the distribution of the loss values, not their average, since accuracy is the result of a binary thresholding of the class probability \n",
    "predicted by the model. The model may still be improving even if this isn't reflected in the average loss. (Source: notebook 5.3 given by Prof Pauca)"
   ]
  },
  {
   "cell_type": "code",
   "execution_count": null,
   "metadata": {},
   "outputs": [],
   "source": []
  }
 ],
 "metadata": {
  "kernelspec": {
   "display_name": "Python 3",
   "language": "python",
   "name": "python3"
  },
  "language_info": {
   "codemirror_mode": {
    "name": "ipython",
    "version": 3
   },
   "file_extension": ".py",
   "mimetype": "text/x-python",
   "name": "python",
   "nbconvert_exporter": "python",
   "pygments_lexer": "ipython3",
   "version": "3.8.3"
  }
 },
 "nbformat": 4,
 "nbformat_minor": 2
}
