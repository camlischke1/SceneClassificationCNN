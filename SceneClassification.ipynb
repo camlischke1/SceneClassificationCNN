{
 "cells": [
  {
   "cell_type": "code",
   "execution_count": 1,
   "metadata": {},
   "outputs": [
    {
     "data": {
      "text/plain": [
       "'2.4.3'"
      ]
     },
     "execution_count": 1,
     "metadata": {},
     "output_type": "execute_result"
    }
   ],
   "source": [
    "import keras\n",
    "keras.__version__"
   ]
  },
  {
   "cell_type": "code",
   "execution_count": 18,
   "metadata": {
    "collapsed": true
   },
   "outputs": [],
   "source": [
    "import numpy as np\n",
    "import matplotlib.pyplot as plt\n",
    "from PIL import Image\n",
    "from scipy import signal\n",
    "from sklearn import preprocessing\n",
    "from keras.preprocessing import image\n",
    "from keras.utils import to_categorical\n",
    "from sklearn.utils import shuffle\n",
    "from keras.applications.imagenet_utils import preprocess_input"
   ]
  },
  {
   "cell_type": "code",
   "execution_count": 3,
   "metadata": {
    "collapsed": true
   },
   "outputs": [],
   "source": [
    "import os, shutil\n",
    "import pandas as pd"
   ]
  },
  {
   "cell_type": "code",
   "execution_count": 15,
   "metadata": {},
   "outputs": [
    {
     "name": "stdout",
     "output_type": "stream",
     "text": [
      "/Users/ananta/Desktop/Masters Fall 2020/Deep Learning/Projects/Final Project\n"
     ]
    }
   ],
   "source": [
    "path = os.getcwd()\n",
    "print(path)"
   ]
  },
  {
   "cell_type": "code",
   "execution_count": 17,
   "metadata": {
    "collapsed": true
   },
   "outputs": [],
   "source": [
    "base_dir = path\n",
    "\n",
    "# Directories for our training pictures\n",
    "train_dir = os.path.join(base_dir, 'train')\n",
    "\n",
    "# Labels\n",
    "train_labels = pd.read_csv(base_dir + \"/train.csv\")\n",
    "\n",
    "# Test Images List\n",
    "test_images_list = pd.read_csv(base_dir + \"/test.csv\")"
   ]
  },
  {
   "cell_type": "code",
   "execution_count": 47,
   "metadata": {},
   "outputs": [
    {
     "name": "stdout",
     "output_type": "stream",
     "text": [
      "24335\n",
      "17034\n",
      "17034\n",
      "17034\n"
     ]
    }
   ],
   "source": [
    "image_count = len(os.listdir(train_dir))\n",
    "print(image_count)\n",
    "samples = len(train_labels)\n",
    "print (samples)\n",
    "test_samples = len(test_images_list)\n",
    "print (len(train_labels[\"image_name\"]))\n",
    "print (len(train_labels[\"label\"]))"
   ]
  },
  {
   "cell_type": "code",
   "execution_count": 59,
   "metadata": {
    "collapsed": true
   },
   "outputs": [],
   "source": [
    "def process_images(train_labels, image_dir, samples, is_labelled = True):\n",
    "    X_train = np.zeros((samples, 100, 100, 3))\n",
    "    img_list = train_labels[\"image_name\"]\n",
    "    labels = train_labels[\"label\"]\n",
    "    \n",
    "    idx = 0\n",
    "    Y_train = [None for i in range(samples)]\n",
    "    \n",
    "    for i in range(len(img_list)):\n",
    "        img_no = img_list[i]\n",
    "        label = labels[i] if is_labelled else -1\n",
    "        img = image.load_img(image_dir + \"/\" + img_no, target_size=(100, 100, 3))\n",
    "        x = image.img_to_array(img)\n",
    "        x = x.reshape((1,) + x.shape)\n",
    "        X_train[idx] = x\n",
    "        Y_train[idx] = label\n",
    "        idx += 1 \n",
    "        if (idx % 500 == 0):\n",
    "            print (\"Processing {} Label {}\".format(img_no, label))\n",
    "    \n",
    "    Y_train = to_categorical(Y_train)\n",
    "    return X_train, Y_train"
   ]
  },
  {
   "cell_type": "code",
   "execution_count": 60,
   "metadata": {
    "scrolled": false
   },
   "outputs": [
    {
     "name": "stdout",
     "output_type": "stream",
     "text": [
      "Processing 723.jpg Label 5\n",
      "Processing 1443.jpg Label 2\n",
      "Processing 2134.jpg Label 3\n",
      "Processing 2856.jpg Label 4\n",
      "Processing 3534.jpg Label 5\n",
      "Processing 4264.jpg Label 4\n",
      "Processing 5052.jpg Label 4\n",
      "Processing 5730.jpg Label 3\n",
      "Processing 6433.jpg Label 2\n",
      "Processing 7138.jpg Label 0\n",
      "Processing 7859.jpg Label 0\n",
      "Processing 8590.jpg Label 2\n",
      "Processing 9310.jpg Label 4\n",
      "Processing 10024.jpg Label 2\n",
      "Processing 10715.jpg Label 4\n",
      "Processing 11407.jpg Label 5\n",
      "Processing 12117.jpg Label 3\n",
      "Processing 12789.jpg Label 0\n",
      "Processing 13546.jpg Label 3\n",
      "Processing 14258.jpg Label 4\n",
      "Processing 14978.jpg Label 4\n",
      "Processing 15673.jpg Label 0\n",
      "Processing 16387.jpg Label 5\n",
      "Processing 17120.jpg Label 2\n",
      "Processing 17854.jpg Label 5\n",
      "Processing 18551.jpg Label 2\n",
      "Processing 19266.jpg Label 3\n",
      "Processing 19995.jpg Label 1\n",
      "Processing 20714.jpg Label 1\n",
      "Processing 21442.jpg Label 4\n",
      "Processing 22158.jpg Label 3\n",
      "Processing 22854.jpg Label 1\n",
      "Processing 23565.jpg Label 2\n",
      "Processing 24280.jpg Label 5\n"
     ]
    }
   ],
   "source": [
    "X_train, Y_train = process_images(train_labels, train_dir, samples)"
   ]
  },
  {
   "cell_type": "code",
   "execution_count": 61,
   "metadata": {},
   "outputs": [],
   "source": [
    "X_train = X_train / 255."
   ]
  },
  {
   "cell_type": "code",
   "execution_count": 85,
   "metadata": {},
   "outputs": [
    {
     "data": {
      "image/png": "[encoded data removed]",
      "text/plain": [
       "<matplotlib.figure.Figure at 0x13ea23400>"
      ]
     },
     "metadata": {},
     "output_type": "display_data"
    },
    {
     "name": "stdout",
     "output_type": "stream",
     "text": [
      "Label 4\n"
     ]
    }
   ],
   "source": [
    "plt.imshow(X_train[1])\n",
    "plt.show()\n",
    "print (\"Label\", np.argmax(Y_train[1], axis=0))"
   ]
  },
  {
   "cell_type": "code",
   "execution_count": 67,
   "metadata": {
    "collapsed": true
   },
   "outputs": [],
   "source": [
    "def process_test_images(test_images_list, image_dir, samples):\n",
    "    X_train = np.zeros((samples, 100, 100, 3))\n",
    "    idx = 0\n",
    "    for img_no in test_images_list[\"image_name\"]:\n",
    "        img = image.load_img(image_dir + \"/\" + img_no, target_size=(100, 100, 3))\n",
    "        x = image.img_to_array(img)\n",
    "        x = x.reshape((1,) + x.shape)\n",
    "        X_train[idx] = x\n",
    "        idx += 1 \n",
    "        if (idx % 500 == 0):\n",
    "            print (\"Processing {}\".format(img_no))\n",
    "    \n",
    "    return X_train"
   ]
  },
  {
   "cell_type": "code",
   "execution_count": 68,
   "metadata": {},
   "outputs": [
    {
     "name": "stdout",
     "output_type": "stream",
     "text": [
      "Processing 1655.jpg\n",
      "Processing 3409.jpg\n",
      "Processing 4836.jpg\n",
      "Processing 6649.jpg\n",
      "Processing 8282.jpg\n",
      "Processing 9940.jpg\n",
      "Processing 11729.jpg\n",
      "Processing 13415.jpg\n",
      "Processing 15040.jpg\n",
      "Processing 16749.jpg\n",
      "Processing 18362.jpg\n",
      "Processing 20005.jpg\n",
      "Processing 21625.jpg\n",
      "Processing 23347.jpg\n"
     ]
    }
   ],
   "source": [
    "X_test = process_test_images(test_images_list, train_dir, test_samples)"
   ]
  },
  {
   "cell_type": "code",
   "execution_count": 70,
   "metadata": {},
   "outputs": [],
   "source": [
    "X_test = X_test / 255."
   ]
  },
  {
   "cell_type": "code",
   "execution_count": 71,
   "metadata": {},
   "outputs": [
    {
     "name": "stdout",
     "output_type": "stream",
     "text": [
      "(17034, 100, 100, 3)\n",
      "(17034, 6)\n",
      "(7301, 100, 100, 3)\n"
     ]
    }
   ],
   "source": [
    "print (X_train.shape)\n",
    "print (Y_train.shape)\n",
    "\n",
    "print (X_test.shape)"
   ]
  },
  {
   "cell_type": "code",
   "execution_count": 74,
   "metadata": {},
   "outputs": [
    {
     "data": {
      "image/png": "[encoded data removed]",
      "text/plain": [
       "<matplotlib.figure.Figure at 0x1e4c447b8>"
      ]
     },
     "metadata": {},
     "output_type": "display_data"
    }
   ],
   "source": [
    "from collections import Counter\n",
    "# Checking label distribution\n",
    "_labels = np.argmax(Y_train, axis = 1)\n",
    "counter = Counter(_labels)\n",
    "plt.bar(list(counter.keys()), list(counter.values()))\n",
    "plt.show()"
   ]
  },
  {
   "cell_type": "code",
   "execution_count": 86,
   "metadata": {
    "collapsed": true
   },
   "outputs": [],
   "source": [
    "# Shuffling\n",
    "X_train, Y_train = shuffle(X_train, Y_train)"
   ]
  },
  {
   "cell_type": "code",
   "execution_count": 87,
   "metadata": {
    "collapsed": true
   },
   "outputs": [],
   "source": [
    "X_val = X_train[13035:]\n",
    "Y_val = Y_train[13035:]\n",
    "\n",
    "X_train = X_train[:13035]\n",
    "Y_train = Y_train[:13035]"
   ]
  },
  {
   "cell_type": "code",
   "execution_count": 101,
   "metadata": {},
   "outputs": [
    {
     "name": "stdout",
     "output_type": "stream",
     "text": [
      "X train shape (13035, 100, 100, 3)\n",
      "Y train shape (13035, 6)\n",
      "X val shape (3999, 100, 100, 3)\n",
      "Y val shape (3999, 6)\n"
     ]
    }
   ],
   "source": [
    "print (\"X train shape\", X_train.shape)\n",
    "print (\"Y train shape\", Y_train.shape)\n",
    "\n",
    "print (\"X val shape\", X_val.shape)\n",
    "print (\"Y val shape\", Y_val.shape)"
   ]
  },
  {
   "cell_type": "code",
   "execution_count": 100,
   "metadata": {},
   "outputs": [
    {
     "data": {
      "image/png": "[encoded data removed]",
      "text/plain": [
       "<matplotlib.figure.Figure at 0x13efb4828>"
      ]
     },
     "metadata": {},
     "output_type": "display_data"
    }
   ],
   "source": [
    "# Checking distribution in the validation set\n",
    "from collections import Counter\n",
    "# Checking label distribution\n",
    "_labels = np.argmax(Y_val, axis = 1)\n",
    "counter = Counter(_labels)\n",
    "plt.bar(list(counter.keys()), list(counter.values()))\n",
    "plt.show()"
   ]
  },
  {
   "cell_type": "code",
   "execution_count": 95,
   "metadata": {
    "collapsed": true
   },
   "outputs": [],
   "source": [
    "from keras import layers\n",
    "from keras import models\n",
    "\n",
    "model = models.Sequential()\n",
    "model.add(layers.Conv2D(16, (3, 3), activation='relu',\n",
    "                        input_shape=(100, 100, 3)))\n",
    "model.add(layers.MaxPooling2D((2, 2)))\n",
    "model.add(layers.Conv2D(32, (3, 3), activation='relu'))\n",
    "model.add(layers.MaxPooling2D((2, 2)))\n",
    "model.add(layers.Flatten())\n",
    "model.add(layers.Dense(100, activation='softmax'))\n",
    "model.add(layers.Dense(Y_train.shape[1], activation='softmax'))"
   ]
  },
  {
   "cell_type": "code",
   "execution_count": 96,
   "metadata": {
    "collapsed": true
   },
   "outputs": [],
   "source": [
    "from keras import optimizers\n",
    "\n",
    "model.compile(loss='categorical_crossentropy',\n",
    "              optimizer=optimizers.RMSprop(lr=1e-4),\n",
    "              metrics=['categorical_accuracy'])"
   ]
  },
  {
   "cell_type": "code",
   "execution_count": 97,
   "metadata": {},
   "outputs": [
    {
     "name": "stdout",
     "output_type": "stream",
     "text": [
      "Model: \"sequential_2\"\n",
      "_________________________________________________________________\n",
      "Layer (type)                 Output Shape              Param #   \n",
      "=================================================================\n",
      "conv2d_4 (Conv2D)            (None, 98, 98, 16)        448       \n",
      "_________________________________________________________________\n",
      "max_pooling2d_4 (MaxPooling2 (None, 49, 49, 16)        0         \n",
      "_________________________________________________________________\n",
      "conv2d_5 (Conv2D)            (None, 47, 47, 32)        4640      \n",
      "_________________________________________________________________\n",
      "max_pooling2d_5 (MaxPooling2 (None, 23, 23, 32)        0         \n",
      "_________________________________________________________________\n",
      "flatten_2 (Flatten)          (None, 16928)             0         \n",
      "_________________________________________________________________\n",
      "dense_4 (Dense)              (None, 100)               1692900   \n",
      "_________________________________________________________________\n",
      "dense_5 (Dense)              (None, 6)                 606       \n",
      "=================================================================\n",
      "Total params: 1,698,594\n",
      "Trainable params: 1,698,594\n",
      "Non-trainable params: 0\n",
      "_________________________________________________________________\n"
     ]
    }
   ],
   "source": [
    "model.summary()"
   ]
  },
  {
   "cell_type": "code",
   "execution_count": 98,
   "metadata": {},
   "outputs": [
    {
     "name": "stdout",
     "output_type": "stream",
     "text": [
      "Epoch 1/10\n",
      "100/100 [==============================] - 39s 392ms/step - loss: 1.7403 - categorical_accuracy: 0.3529 - val_loss: 1.7093 - val_categorical_accuracy: 0.4214\n",
      "Epoch 2/10\n",
      "100/100 [==============================] - 34s 342ms/step - loss: 1.7024 - categorical_accuracy: 0.4232 - val_loss: 1.6917 - val_categorical_accuracy: 0.4509\n",
      "Epoch 3/10\n",
      "100/100 [==============================] - 35s 346ms/step - loss: 1.6827 - categorical_accuracy: 0.4503 - val_loss: 1.6797 - val_categorical_accuracy: 0.4471\n",
      "Epoch 4/10\n",
      "100/100 [==============================] - 32s 316ms/step - loss: 1.6744 - categorical_accuracy: 0.4525 - val_loss: 1.6666 - val_categorical_accuracy: 0.4649\n",
      "Epoch 5/10\n",
      "100/100 [==============================] - 32s 322ms/step - loss: 1.6624 - categorical_accuracy: 0.4676 - val_loss: 1.6621 - val_categorical_accuracy: 0.4759\n",
      "Epoch 6/10\n",
      "100/100 [==============================] - 32s 315ms/step - loss: 1.6558 - categorical_accuracy: 0.4671 - val_loss: 1.6495 - val_categorical_accuracy: 0.4769\n",
      "Epoch 7/10\n",
      "100/100 [==============================] - 33s 326ms/step - loss: 1.6446 - categorical_accuracy: 0.4809 - val_loss: 1.6436 - val_categorical_accuracy: 0.4831\n",
      "Epoch 8/10\n",
      "100/100 [==============================] - 33s 327ms/step - loss: 1.6357 - categorical_accuracy: 0.4859 - val_loss: 1.6370 - val_categorical_accuracy: 0.4814\n",
      "Epoch 9/10\n",
      "100/100 [==============================] - 32s 322ms/step - loss: 1.6274 - categorical_accuracy: 0.4995 - val_loss: 1.6240 - val_categorical_accuracy: 0.5406\n",
      "Epoch 10/10\n",
      "100/100 [==============================] - 33s 332ms/step - loss: 1.6192 - categorical_accuracy: 0.5417 - val_loss: 1.6166 - val_categorical_accuracy: 0.5426\n"
     ]
    }
   ],
   "source": [
    "# ANANTA: JUST A TRYOUT (NOT INTENDED TO BE A MODEL WE WANNA PUT IN HERE)\n",
    "history = model.fit(X_train, \n",
    "                    Y_train, \n",
    "                    batch_size=100, \n",
    "                    epochs= 10,\n",
    "                    steps_per_epoch=100,\n",
    "                    validation_data=(X_val, Y_val))"
   ]
  },
  {
   "cell_type": "code",
   "execution_count": null,
   "metadata": {
    "collapsed": true
   },
   "outputs": [],
   "source": []
  }
 ],
 "metadata": {
  "kernelspec": {
   "display_name": "Python 3",
   "language": "python",
   "name": "python3"
  },
  "language_info": {
   "codemirror_mode": {
    "name": "ipython",
    "version": 3
   },
   "file_extension": ".py",
   "mimetype": "text/x-python",
   "name": "python",
   "nbconvert_exporter": "python",
   "pygments_lexer": "ipython3",
   "version": "3.6.1"
  }
 },
 "nbformat": 4,
 "nbformat_minor": 2
}
